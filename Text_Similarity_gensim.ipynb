{
 "cells": [
  {
   "cell_type": "markdown",
   "metadata": {
    "colab_type": "text",
    "id": "5rZhOiacNafU"
   },
   "source": [
    "# Text similarity\n",
    "\n",
    "Text similarity has to determine how 'close' two pieces of text are both in surface closeness **lexical similarity** and meaning **semantic similarity**. For instance, how similar are the phrases “the cat ate the mouse” with “the mouse ate the cat food” by just looking at the words?"
   ]
  },
  {
   "cell_type": "markdown",
   "metadata": {},
   "source": [
    "![./images/text_similarity.png](./images/text_similarity.png)"
   ]
  },
  {
   "cell_type": "markdown",
   "metadata": {
    "colab_type": "text",
    "id": "cn2_GAde1-b3"
   },
   "source": [
    "### Quora Question Pairs Dataset\n",
    "There are over 400,000 lines of potential question duplicate pairs. Each line contains IDs for each question in the pair, the full text for each question, and a binary value that indicates whether the line truly contains a duplicate pair.\n",
    "\n",
    "We can download dataset from [Quora Question Pairs Dataset](https://www.kaggle.com/quora/question-pairs-dataset)"
   ]
  },
  {
   "cell_type": "code",
   "execution_count": 0,
   "metadata": {
    "colab": {},
    "colab_type": "code",
    "id": "IzCGtQm4rGRk"
   },
   "outputs": [],
   "source": [
    "import json\n",
    "import pandas as pd\n",
    "import numpy as np\n",
    "import string\n",
    "import matplotlib.pyplot as plt\n",
    "% matplotlib inline\n",
    "import spacy\n",
    "sp = spacy.load('en_core_web_sm')"
   ]
  },
  {
   "cell_type": "code",
   "execution_count": 0,
   "metadata": {
    "colab": {},
    "colab_type": "code",
    "id": "fmQCK7voq9vf"
   },
   "outputs": [],
   "source": [
    "project_path = 'TextSimilarity/'"
   ]
  },
  {
   "cell_type": "code",
   "execution_count": 4,
   "metadata": {
    "colab": {
     "base_uri": "https://localhost:8080/",
     "height": 204
    },
    "colab_type": "code",
    "executionInfo": {
     "elapsed": 1970,
     "status": "ok",
     "timestamp": 1577780816367,
     "user": {
      "displayName": "Saikumar Dev",
      "photoUrl": "",
      "userId": "03015931960176323674"
     },
     "user_tz": -330
    },
    "id": "2hi-OlqbrB5W",
    "outputId": "8402f416-0930-4732-b246-f50ebf93fd5a"
   },
   "outputs": [
    {
     "data": {
      "text/html": [
       "<div>\n",
       "<style scoped>\n",
       "    .dataframe tbody tr th:only-of-type {\n",
       "        vertical-align: middle;\n",
       "    }\n",
       "\n",
       "    .dataframe tbody tr th {\n",
       "        vertical-align: top;\n",
       "    }\n",
       "\n",
       "    .dataframe thead th {\n",
       "        text-align: right;\n",
       "    }\n",
       "</style>\n",
       "<table border=\"1\" class=\"dataframe\">\n",
       "  <thead>\n",
       "    <tr style=\"text-align: right;\">\n",
       "      <th></th>\n",
       "      <th>id</th>\n",
       "      <th>qid1</th>\n",
       "      <th>qid2</th>\n",
       "      <th>question1</th>\n",
       "      <th>question2</th>\n",
       "      <th>is_duplicate</th>\n",
       "    </tr>\n",
       "  </thead>\n",
       "  <tbody>\n",
       "    <tr>\n",
       "      <th>0</th>\n",
       "      <td>0</td>\n",
       "      <td>1</td>\n",
       "      <td>2</td>\n",
       "      <td>What is the step by step guide to invest in sh...</td>\n",
       "      <td>What is the step by step guide to invest in sh...</td>\n",
       "      <td>0</td>\n",
       "    </tr>\n",
       "    <tr>\n",
       "      <th>1</th>\n",
       "      <td>1</td>\n",
       "      <td>3</td>\n",
       "      <td>4</td>\n",
       "      <td>What is the story of Kohinoor (Koh-i-Noor) Dia...</td>\n",
       "      <td>What would happen if the Indian government sto...</td>\n",
       "      <td>0</td>\n",
       "    </tr>\n",
       "    <tr>\n",
       "      <th>2</th>\n",
       "      <td>2</td>\n",
       "      <td>5</td>\n",
       "      <td>6</td>\n",
       "      <td>How can I increase the speed of my internet co...</td>\n",
       "      <td>How can Internet speed be increased by hacking...</td>\n",
       "      <td>0</td>\n",
       "    </tr>\n",
       "    <tr>\n",
       "      <th>3</th>\n",
       "      <td>3</td>\n",
       "      <td>7</td>\n",
       "      <td>8</td>\n",
       "      <td>Why am I mentally very lonely? How can I solve...</td>\n",
       "      <td>Find the remainder when [math]23^{24}[/math] i...</td>\n",
       "      <td>0</td>\n",
       "    </tr>\n",
       "    <tr>\n",
       "      <th>4</th>\n",
       "      <td>4</td>\n",
       "      <td>9</td>\n",
       "      <td>10</td>\n",
       "      <td>Which one dissolve in water quikly sugar, salt...</td>\n",
       "      <td>Which fish would survive in salt water?</td>\n",
       "      <td>0</td>\n",
       "    </tr>\n",
       "  </tbody>\n",
       "</table>\n",
       "</div>"
      ],
      "text/plain": [
       "   id  qid1  ...                                          question2 is_duplicate\n",
       "0   0     1  ...  What is the step by step guide to invest in sh...            0\n",
       "1   1     3  ...  What would happen if the Indian government sto...            0\n",
       "2   2     5  ...  How can Internet speed be increased by hacking...            0\n",
       "3   3     7  ...  Find the remainder when [math]23^{24}[/math] i...            0\n",
       "4   4     9  ...            Which fish would survive in salt water?            0\n",
       "\n",
       "[5 rows x 6 columns]"
      ]
     },
     "execution_count": 4,
     "metadata": {
      "tags": []
     },
     "output_type": "execute_result"
    }
   ],
   "source": [
    "data = pd.read_csv(project_path+\"questions.csv\",nrows=1000)\n",
    "data.head()"
   ]
  },
  {
   "cell_type": "code",
   "execution_count": 0,
   "metadata": {
    "colab": {},
    "colab_type": "code",
    "id": "fO3xdOKZrKrM"
   },
   "outputs": [],
   "source": [
    "# prepare table for removing punctuation\n",
    "table = str.maketrans('', '', string.punctuation)\n",
    "def clean_question(text):\n",
    "    doc = sp(text)\n",
    "    # tokenize\n",
    "    # text = text.split()\n",
    "    # Lemmatization\n",
    "    text = [token.lemma_ for token in doc]\n",
    "    # convert to lower case\n",
    "    text = [word.lower() for word in text]\n",
    "    # remove punctuation from each token\n",
    "    text = [w.translate(table) for w in text]\n",
    "    # remove words length less than 1\n",
    "    text = [word for word in text if len(word)>1]\n",
    "    # remove tokens with numbers in them\n",
    "    text = [word for word in text if word.isalpha()]\n",
    "    # store as string\n",
    "    return ' '.join(text)"
   ]
  },
  {
   "cell_type": "code",
   "execution_count": 0,
   "metadata": {
    "colab": {},
    "colab_type": "code",
    "id": "UppXLiMurP1E"
   },
   "outputs": [],
   "source": [
    "data[\"question1\"] = data[\"question1\"].apply(lambda x:clean_question(x))\n",
    "data[\"question2\"] = data[\"question2\"].apply(lambda x:clean_question(x))"
   ]
  },
  {
   "cell_type": "code",
   "execution_count": 0,
   "metadata": {
    "colab": {},
    "colab_type": "code",
    "id": "XZpW_FBxsiAu"
   },
   "outputs": [],
   "source": [
    "#now create a list that contains the id of all the sentences\n",
    "sentence_ids = np.concatenate((data[\"qid1\"].values, data[\"qid2\"].values), axis=0)\n",
    "sentence_ids = ['q'+str(id) for id in sentence_ids]\n",
    "#create a list that stores the content of all text\n",
    "sentences = np.concatenate((data[\"question1\"].values, data[\"question2\"].values), axis=0)\n",
    "# creata a temp dataframe\n",
    "temp_df = pd.DataFrame({\"qid\":sentence_ids,\"questions\":sentences})"
   ]
  },
  {
   "cell_type": "code",
   "execution_count": 0,
   "metadata": {
    "colab": {},
    "colab_type": "code",
    "id": "7J3d8_DDt7qw"
   },
   "outputs": [],
   "source": [
    "#create a list that stores the wordslist of sentences\n",
    "data = [word.split() for word in sentences]"
   ]
  },
  {
   "cell_type": "code",
   "execution_count": 0,
   "metadata": {
    "colab": {},
    "colab_type": "code",
    "id": "-LvyzDWEkr8K"
   },
   "outputs": [],
   "source": [
    "from gensim.models.doc2vec import TaggedDocument\n",
    "import gensim"
   ]
  },
  {
   "cell_type": "code",
   "execution_count": 0,
   "metadata": {
    "colab": {},
    "colab_type": "code",
    "id": "zOA-SQt0vnVI"
   },
   "outputs": [],
   "source": [
    "# class LabeledLineSentence(object):\n",
    "#     def __init__(self, doc_list, labels_list):\n",
    "#         self.labels_list = labels_list\n",
    "#         self.doc_list = doc_list\n",
    "#     def __iter__(self):\n",
    "#         for idx, doc in enumerate(self.doc_list):\n",
    "#               yield gensim.models.doc2vec.LabeledSentence(doc,[self.labels_list[idx]])"
   ]
  },
  {
   "cell_type": "code",
   "execution_count": 0,
   "metadata": {
    "colab": {},
    "colab_type": "code",
    "id": "-jhosAHekr8Y"
   },
   "outputs": [],
   "source": [
    "#iterator returned over all questions\n",
    "documents = [TaggedDocument(doc, [i]) for i, doc in zip(sentence_ids,data)]"
   ]
  },
  {
   "cell_type": "code",
   "execution_count": 12,
   "metadata": {
    "colab": {
     "base_uri": "https://localhost:8080/",
     "height": 156
    },
    "colab_type": "code",
    "executionInfo": {
     "elapsed": 1407229,
     "status": "ok",
     "timestamp": 1577782249162,
     "user": {
      "displayName": "Saikumar Dev",
      "photoUrl": "",
      "userId": "03015931960176323674"
     },
     "user_tz": -330
    },
    "id": "n_tG-r1bkr8b",
    "outputId": "24460863-837c-4578-abb9-60639b835ad8",
    "scrolled": true
   },
   "outputs": [
    {
     "name": "stderr",
     "output_type": "stream",
     "text": [
      "/usr/local/lib/python3.6/dist-packages/gensim/models/doc2vec.py:570: UserWarning: The parameter `size` is deprecated, will be removed in 4.0.0, use `vector_size` instead.\n",
      "  warnings.warn(\"The parameter `size` is deprecated, will be removed in 4.0.0, use `vector_size` instead.\")\n",
      "/usr/local/lib/python3.6/dist-packages/ipykernel_launcher.py:5: DeprecationWarning: Call to deprecated `iter` (Attribute will be removed in 4.0.0, use self.epochs instead).\n",
      "  \"\"\"\n"
     ]
    },
    {
     "name": "stdout",
     "output_type": "stream",
     "text": [
      "model saved\n"
     ]
    },
    {
     "name": "stderr",
     "output_type": "stream",
     "text": [
      "/usr/local/lib/python3.6/dist-packages/smart_open/smart_open_lib.py:402: UserWarning: This function is deprecated, use smart_open.open instead. See the migration notes for details: https://github.com/RaRe-Technologies/smart_open/blob/master/README.rst#migrating-to-the-new-open-function\n",
      "  'See the migration notes for details: %s' % _MIGRATION_NOTES_URL\n"
     ]
    }
   ],
   "source": [
    "model = gensim.models.Doc2Vec(size=300, min_count=0, alpha=0.025, min_alpha=0.025,workers=4)\n",
    "model.build_vocab(documents)\n",
    "#training of model\n",
    "for epoch in range(1000):\n",
    "    model.train(documents,total_examples=model.corpus_count ,epochs=model.iter)\n",
    "    model.alpha -= 0.002\n",
    "    model.min_alpha = model.alpha\n",
    "#saving the created model\n",
    "model.save('doc2vec_1000.model')\n",
    "print ('model saved')"
   ]
  },
  {
   "cell_type": "code",
   "execution_count": 13,
   "metadata": {
    "colab": {
     "base_uri": "https://localhost:8080/",
     "height": 71
    },
    "colab_type": "code",
    "executionInfo": {
     "elapsed": 1403281,
     "status": "ok",
     "timestamp": 1577782249167,
     "user": {
      "displayName": "Saikumar Dev",
      "photoUrl": "",
      "userId": "03015931960176323674"
     },
     "user_tz": -330
    },
    "id": "KPvB5bhKkr8g",
    "outputId": "c7e98fb6-5d54-4955-f3ae-f7e581aaa719"
   },
   "outputs": [
    {
     "name": "stderr",
     "output_type": "stream",
     "text": [
      "/usr/local/lib/python3.6/dist-packages/smart_open/smart_open_lib.py:402: UserWarning: This function is deprecated, use smart_open.open instead. See the migration notes for details: https://github.com/RaRe-Technologies/smart_open/blob/master/README.rst#migrating-to-the-new-open-function\n",
      "  'See the migration notes for details: %s' % _MIGRATION_NOTES_URL\n"
     ]
    }
   ],
   "source": [
    "#loading the model\n",
    "d2v_model = gensim.models.doc2vec.Doc2Vec.load('doc2vec_1000.model')"
   ]
  },
  {
   "cell_type": "code",
   "execution_count": 14,
   "metadata": {
    "colab": {
     "base_uri": "https://localhost:8080/",
     "height": 1000
    },
    "colab_type": "code",
    "executionInfo": {
     "elapsed": 1403571,
     "status": "ok",
     "timestamp": 1577782249791,
     "user": {
      "displayName": "Saikumar Dev",
      "photoUrl": "",
      "userId": "03015931960176323674"
     },
     "user_tz": -330
    },
    "id": "lOKv49S2kr8j",
    "outputId": "4a2b4b53-7e05-42b6-feac-f01e87175246",
    "scrolled": true
   },
   "outputs": [
    {
     "name": "stdout",
     "output_type": "stream",
     "text": [
      "[ 4.2197876e+00  4.8312753e-02  3.0237710e+00  5.4978876e+00\n",
      "  5.9577316e-01 -3.6213448e+00  1.5603197e+00 -3.5575607e+00\n",
      "  2.8135810e+00  1.4412477e+00  5.8004332e+00 -1.1093522e+00\n",
      " -1.6479286e+00 -5.9140813e-01 -2.8680074e+00  5.2601206e-01\n",
      "  9.4883829e-01  1.9628677e+00  2.1369214e+00  1.0583837e+00\n",
      " -2.2310190e+00  1.6844392e+00  1.4119526e+00 -4.6400557e+00\n",
      " -2.4797268e+00 -1.0261333e+00 -3.4789276e-01  2.5389395e+00\n",
      " -2.5144379e+00  2.0523310e+00 -1.0553601e+00 -4.0524144e+00\n",
      " -2.6139336e+00 -1.7444221e+00 -1.4102560e-01  1.0715770e+00\n",
      " -6.3769919e-01  3.6523359e+00  2.3656788e+00 -1.6876444e+00\n",
      " -4.3787060e+00 -1.9206141e+00 -4.0401635e+00 -4.3629346e+00\n",
      "  2.0699105e+00  1.9567695e+00  1.6165894e+00  4.4256034e+00\n",
      " -3.2929420e+00 -6.6132431e+00  5.0168598e-01  8.3833343e-01\n",
      "  2.1015339e+00 -2.0918705e+00  3.2042403e+00 -3.0005069e+00\n",
      "  2.1545315e-01  1.3807440e+00 -7.2223020e-01 -2.9131355e+00\n",
      "  1.7369833e+00  8.7035596e-03  4.0707278e+00 -2.2442057e+00\n",
      "  1.1946799e+00 -3.9390373e+00  4.4589311e-01 -7.5895369e-01\n",
      " -5.0209608e+00 -4.3493748e+00 -9.8973691e-01 -9.0038306e-01\n",
      "  1.0334626e+00 -3.3046350e+00  1.7273488e+00 -3.3555989e+00\n",
      "  5.4397684e-01  4.0173319e-01  2.9846046e+00 -1.4855419e+00\n",
      "  3.7243514e+00  7.6026778e+00 -5.4005659e-01 -8.1828046e-01\n",
      " -1.9496367e+00  3.6072388e+00  2.1005909e+00  2.4606194e+00\n",
      " -3.8640890e+00  4.7556529e+00 -2.1183757e-01 -7.0772135e-01\n",
      " -1.9960415e-02  5.2558031e+00 -7.2975388e+00  2.2309458e+00\n",
      " -3.9194336e+00 -6.4032096e-01  7.0152873e-01 -8.3937204e-01\n",
      "  1.6494728e+00 -8.2019335e-01 -5.6893177e+00 -3.7483752e+00\n",
      " -3.0164430e-01 -5.1472564e+00  1.9868956e+00 -1.6233947e+00\n",
      " -1.9279671e+00 -5.9831553e+00 -9.1971743e-01 -3.1510668e+00\n",
      "  1.2415475e+00  1.0961275e+00 -2.5540984e+00  2.0140014e+00\n",
      " -6.1260588e-02  2.0947061e+00 -1.5927202e-01  3.3394859e+00\n",
      " -3.6927495e+00  4.3431292e+00 -3.3854148e+00  2.6396177e+00\n",
      "  7.6771230e-02  2.9620481e+00 -7.8776896e-02  3.6326632e+00\n",
      "  1.2940516e+00  1.0957103e+00 -6.0639632e-01 -4.1755587e-01\n",
      " -1.6212239e+00  4.3954177e+00 -6.1477766e+00 -2.8428109e+00\n",
      " -8.0953217e+00  2.2181087e+00 -5.1053286e+00  3.2377987e+00\n",
      " -7.7411711e-01  4.4953924e-01 -4.1658487e+00  5.1150589e+00\n",
      " -1.4405754e+00 -2.2294283e+00  4.6365695e+00 -2.9812998e-01\n",
      " -1.5220724e+00 -4.6291456e+00  2.2012599e+00  4.3111324e-02\n",
      " -7.9164176e+00 -4.0298762e+00  6.5294117e-01  3.1089759e+00\n",
      " -1.3535980e+00 -1.9357045e+00 -2.6747251e-01 -1.7107950e+00\n",
      " -1.7282499e-01  1.4066267e+00 -9.8135632e-01 -9.9392581e-01\n",
      "  2.7716913e+00  2.8053772e+00 -4.3515105e+00  8.3201456e-01\n",
      "  2.6412108e+00  2.1555085e+00 -2.5030797e+00  3.1842339e+00\n",
      "  1.8100204e+00  2.1636925e+00  1.3162887e+00  2.3932929e+00\n",
      "  2.1977191e-01 -4.7430525e+00 -3.4198928e+00  7.6074517e-01\n",
      "  6.9532174e-01 -8.4619772e-01  4.7428842e+00  2.7675900e+00\n",
      " -4.9750200e-01  8.2013216e+00 -2.2127157e-01 -1.7318425e+00\n",
      " -1.9040972e+00 -1.3706609e+00  1.3520849e+00 -1.5187389e+00\n",
      " -2.5337443e+00 -3.9521573e+00 -1.5949792e+00 -8.7645471e-02\n",
      "  2.0115035e+00  6.1211014e-01  3.4935229e+00  1.1850655e+00\n",
      "  2.6016805e+00 -1.7583557e+00 -1.1376374e+00 -4.4866037e+00\n",
      "  1.3120011e+00  2.1159635e+00 -3.6760535e+00  2.9233968e+00\n",
      " -1.7818328e+00 -2.8021276e+00 -3.9094785e-01 -2.0479550e+00\n",
      "  1.2621505e+00  1.3160598e+00  1.5424528e+00 -4.2528119e+00\n",
      " -2.7387478e+00 -2.8806143e+00  3.4048384e-01  4.7055798e+00\n",
      "  4.3526692e+00  4.5695472e+00 -6.8799577e+00  1.7649812e+00\n",
      "  5.1608834e+00 -1.5849001e+00  6.8437541e-01 -2.4774969e-02\n",
      " -3.8274167e+00 -1.5662096e+00  3.7150955e+00  5.7612505e+00\n",
      " -1.0467405e+00 -9.1272855e-01 -2.5948586e+00  9.5817351e-01\n",
      "  8.4291238e-01 -1.5947534e-01  3.8128701e-01 -1.5805210e+00\n",
      "  4.6492319e+00  2.7769444e+00  5.7896395e+00 -1.4858022e-03\n",
      "  1.1233871e+00  9.4528222e-01 -3.5135603e+00 -2.8101712e-02\n",
      " -3.7710700e+00 -1.8199283e+00  2.8302974e-01 -2.5525515e+00\n",
      " -1.4099503e+00  1.0584233e+00  1.3708669e+00  2.5990517e+00\n",
      " -1.0683027e-01  6.4348726e+00 -2.0150187e+00  6.2588382e-01\n",
      "  6.7904186e-01 -5.9525251e+00  5.8645864e+00 -3.4541554e+00\n",
      " -2.2259212e+00 -1.6864552e+00  2.0762672e+00  2.4715371e+00\n",
      "  1.8210890e+00 -7.8833246e-01 -1.2714911e-01  2.6119524e-01\n",
      "  3.7137830e-01  1.5878819e+00  1.3652046e+00  1.2939734e+00\n",
      " -1.2800186e+00 -4.4176488e+00 -3.1601634e+00  6.7106849e-01\n",
      "  1.3056613e+00  3.5003450e+00 -3.2501366e+00  5.2805328e+00\n",
      " -5.3157887e+00 -6.7125521e+00 -5.3557158e+00 -3.3203495e+00\n",
      "  3.5131006e+00 -1.5871470e+00  9.2939615e-01 -4.8045354e+00\n",
      "  5.1165743e+00 -2.8863549e+00  1.8040777e+00  2.7061675e+00\n",
      "  1.9399890e+00 -4.7414088e+00  8.4511495e-01 -1.4764464e+00]\n"
     ]
    }
   ],
   "source": [
    "#start testing\n",
    "#printing the vector of quetion at index 1 in data\n",
    "docvec = d2v_model.docvecs[1]\n",
    "print(docvec)"
   ]
  },
  {
   "cell_type": "code",
   "execution_count": 15,
   "metadata": {
    "colab": {
     "base_uri": "https://localhost:8080/",
     "height": 1000
    },
    "colab_type": "code",
    "executionInfo": {
     "elapsed": 1403238,
     "status": "ok",
     "timestamp": 1577782249792,
     "user": {
      "displayName": "Saikumar Dev",
      "photoUrl": "",
      "userId": "03015931960176323674"
     },
     "user_tz": -330
    },
    "id": "qPPVmlhzkr8m",
    "outputId": "f75eb390-8d1f-4355-af6f-e0e36dadd3ac",
    "scrolled": true
   },
   "outputs": [
    {
     "name": "stdout",
     "output_type": "stream",
     "text": [
      "[ 4.2197876e+00  4.8312753e-02  3.0237710e+00  5.4978876e+00\n",
      "  5.9577316e-01 -3.6213448e+00  1.5603197e+00 -3.5575607e+00\n",
      "  2.8135810e+00  1.4412477e+00  5.8004332e+00 -1.1093522e+00\n",
      " -1.6479286e+00 -5.9140813e-01 -2.8680074e+00  5.2601206e-01\n",
      "  9.4883829e-01  1.9628677e+00  2.1369214e+00  1.0583837e+00\n",
      " -2.2310190e+00  1.6844392e+00  1.4119526e+00 -4.6400557e+00\n",
      " -2.4797268e+00 -1.0261333e+00 -3.4789276e-01  2.5389395e+00\n",
      " -2.5144379e+00  2.0523310e+00 -1.0553601e+00 -4.0524144e+00\n",
      " -2.6139336e+00 -1.7444221e+00 -1.4102560e-01  1.0715770e+00\n",
      " -6.3769919e-01  3.6523359e+00  2.3656788e+00 -1.6876444e+00\n",
      " -4.3787060e+00 -1.9206141e+00 -4.0401635e+00 -4.3629346e+00\n",
      "  2.0699105e+00  1.9567695e+00  1.6165894e+00  4.4256034e+00\n",
      " -3.2929420e+00 -6.6132431e+00  5.0168598e-01  8.3833343e-01\n",
      "  2.1015339e+00 -2.0918705e+00  3.2042403e+00 -3.0005069e+00\n",
      "  2.1545315e-01  1.3807440e+00 -7.2223020e-01 -2.9131355e+00\n",
      "  1.7369833e+00  8.7035596e-03  4.0707278e+00 -2.2442057e+00\n",
      "  1.1946799e+00 -3.9390373e+00  4.4589311e-01 -7.5895369e-01\n",
      " -5.0209608e+00 -4.3493748e+00 -9.8973691e-01 -9.0038306e-01\n",
      "  1.0334626e+00 -3.3046350e+00  1.7273488e+00 -3.3555989e+00\n",
      "  5.4397684e-01  4.0173319e-01  2.9846046e+00 -1.4855419e+00\n",
      "  3.7243514e+00  7.6026778e+00 -5.4005659e-01 -8.1828046e-01\n",
      " -1.9496367e+00  3.6072388e+00  2.1005909e+00  2.4606194e+00\n",
      " -3.8640890e+00  4.7556529e+00 -2.1183757e-01 -7.0772135e-01\n",
      " -1.9960415e-02  5.2558031e+00 -7.2975388e+00  2.2309458e+00\n",
      " -3.9194336e+00 -6.4032096e-01  7.0152873e-01 -8.3937204e-01\n",
      "  1.6494728e+00 -8.2019335e-01 -5.6893177e+00 -3.7483752e+00\n",
      " -3.0164430e-01 -5.1472564e+00  1.9868956e+00 -1.6233947e+00\n",
      " -1.9279671e+00 -5.9831553e+00 -9.1971743e-01 -3.1510668e+00\n",
      "  1.2415475e+00  1.0961275e+00 -2.5540984e+00  2.0140014e+00\n",
      " -6.1260588e-02  2.0947061e+00 -1.5927202e-01  3.3394859e+00\n",
      " -3.6927495e+00  4.3431292e+00 -3.3854148e+00  2.6396177e+00\n",
      "  7.6771230e-02  2.9620481e+00 -7.8776896e-02  3.6326632e+00\n",
      "  1.2940516e+00  1.0957103e+00 -6.0639632e-01 -4.1755587e-01\n",
      " -1.6212239e+00  4.3954177e+00 -6.1477766e+00 -2.8428109e+00\n",
      " -8.0953217e+00  2.2181087e+00 -5.1053286e+00  3.2377987e+00\n",
      " -7.7411711e-01  4.4953924e-01 -4.1658487e+00  5.1150589e+00\n",
      " -1.4405754e+00 -2.2294283e+00  4.6365695e+00 -2.9812998e-01\n",
      " -1.5220724e+00 -4.6291456e+00  2.2012599e+00  4.3111324e-02\n",
      " -7.9164176e+00 -4.0298762e+00  6.5294117e-01  3.1089759e+00\n",
      " -1.3535980e+00 -1.9357045e+00 -2.6747251e-01 -1.7107950e+00\n",
      " -1.7282499e-01  1.4066267e+00 -9.8135632e-01 -9.9392581e-01\n",
      "  2.7716913e+00  2.8053772e+00 -4.3515105e+00  8.3201456e-01\n",
      "  2.6412108e+00  2.1555085e+00 -2.5030797e+00  3.1842339e+00\n",
      "  1.8100204e+00  2.1636925e+00  1.3162887e+00  2.3932929e+00\n",
      "  2.1977191e-01 -4.7430525e+00 -3.4198928e+00  7.6074517e-01\n",
      "  6.9532174e-01 -8.4619772e-01  4.7428842e+00  2.7675900e+00\n",
      " -4.9750200e-01  8.2013216e+00 -2.2127157e-01 -1.7318425e+00\n",
      " -1.9040972e+00 -1.3706609e+00  1.3520849e+00 -1.5187389e+00\n",
      " -2.5337443e+00 -3.9521573e+00 -1.5949792e+00 -8.7645471e-02\n",
      "  2.0115035e+00  6.1211014e-01  3.4935229e+00  1.1850655e+00\n",
      "  2.6016805e+00 -1.7583557e+00 -1.1376374e+00 -4.4866037e+00\n",
      "  1.3120011e+00  2.1159635e+00 -3.6760535e+00  2.9233968e+00\n",
      " -1.7818328e+00 -2.8021276e+00 -3.9094785e-01 -2.0479550e+00\n",
      "  1.2621505e+00  1.3160598e+00  1.5424528e+00 -4.2528119e+00\n",
      " -2.7387478e+00 -2.8806143e+00  3.4048384e-01  4.7055798e+00\n",
      "  4.3526692e+00  4.5695472e+00 -6.8799577e+00  1.7649812e+00\n",
      "  5.1608834e+00 -1.5849001e+00  6.8437541e-01 -2.4774969e-02\n",
      " -3.8274167e+00 -1.5662096e+00  3.7150955e+00  5.7612505e+00\n",
      " -1.0467405e+00 -9.1272855e-01 -2.5948586e+00  9.5817351e-01\n",
      "  8.4291238e-01 -1.5947534e-01  3.8128701e-01 -1.5805210e+00\n",
      "  4.6492319e+00  2.7769444e+00  5.7896395e+00 -1.4858022e-03\n",
      "  1.1233871e+00  9.4528222e-01 -3.5135603e+00 -2.8101712e-02\n",
      " -3.7710700e+00 -1.8199283e+00  2.8302974e-01 -2.5525515e+00\n",
      " -1.4099503e+00  1.0584233e+00  1.3708669e+00  2.5990517e+00\n",
      " -1.0683027e-01  6.4348726e+00 -2.0150187e+00  6.2588382e-01\n",
      "  6.7904186e-01 -5.9525251e+00  5.8645864e+00 -3.4541554e+00\n",
      " -2.2259212e+00 -1.6864552e+00  2.0762672e+00  2.4715371e+00\n",
      "  1.8210890e+00 -7.8833246e-01 -1.2714911e-01  2.6119524e-01\n",
      "  3.7137830e-01  1.5878819e+00  1.3652046e+00  1.2939734e+00\n",
      " -1.2800186e+00 -4.4176488e+00 -3.1601634e+00  6.7106849e-01\n",
      "  1.3056613e+00  3.5003450e+00 -3.2501366e+00  5.2805328e+00\n",
      " -5.3157887e+00 -6.7125521e+00 -5.3557158e+00 -3.3203495e+00\n",
      "  3.5131006e+00 -1.5871470e+00  9.2939615e-01 -4.8045354e+00\n",
      "  5.1165743e+00 -2.8863549e+00  1.8040777e+00  2.7061675e+00\n",
      "  1.9399890e+00 -4.7414088e+00  8.4511495e-01 -1.4764464e+00]\n"
     ]
    },
    {
     "data": {
      "text/plain": [
       "300"
      ]
     },
     "execution_count": 15,
     "metadata": {
      "tags": []
     },
     "output_type": "execute_result"
    }
   ],
   "source": [
    "#printing the vector of the question using its id\n",
    "docvec = d2v_model.docvecs['q3']\n",
    "print(docvec)\n",
    "len(docvec)"
   ]
  },
  {
   "cell_type": "code",
   "execution_count": 16,
   "metadata": {
    "colab": {
     "base_uri": "https://localhost:8080/",
     "height": 88
    },
    "colab_type": "code",
    "executionInfo": {
     "elapsed": 1402821,
     "status": "ok",
     "timestamp": 1577782249793,
     "user": {
      "displayName": "Saikumar Dev",
      "photoUrl": "",
      "userId": "03015931960176323674"
     },
     "user_tz": -330
    },
    "id": "yVo1iQpekr8o",
    "outputId": "ad9e7796-f92c-4bd3-e0f1-33c2f9d0600c"
   },
   "outputs": [
    {
     "name": "stdout",
     "output_type": "stream",
     "text": [
      "[('q740', 0.9731907844543457), ('q2', 0.9551281332969666), ('q141', 0.9514784812927246), ('q707', 0.9480893611907959), ('q220', 0.941907525062561), ('q784', 0.9396740198135376), ('q757', 0.9388040900230408), ('q1917', 0.937085747718811), ('q168', 0.935954749584198), ('q608', 0.9354759454727173)]\n"
     ]
    },
    {
     "name": "stderr",
     "output_type": "stream",
     "text": [
      "/usr/local/lib/python3.6/dist-packages/gensim/matutils.py:737: FutureWarning: Conversion of the second argument of issubdtype from `int` to `np.signedinteger` is deprecated. In future, it will be treated as `np.int64 == np.dtype(int).type`.\n",
      "  if np.issubdtype(vec.dtype, np.int):\n"
     ]
    }
   ],
   "source": [
    "#to get most similar questions with similarity scores using question-index\n",
    "similar_doc = d2v_model.docvecs.most_similar(14) \n",
    "print(similar_doc)"
   ]
  },
  {
   "cell_type": "code",
   "execution_count": 17,
   "metadata": {
    "colab": {
     "base_uri": "https://localhost:8080/",
     "height": 88
    },
    "colab_type": "code",
    "executionInfo": {
     "elapsed": 1402405,
     "status": "ok",
     "timestamp": 1577782249794,
     "user": {
      "displayName": "Saikumar Dev",
      "photoUrl": "",
      "userId": "03015931960176323674"
     },
     "user_tz": -330
    },
    "id": "4ASHhdmlzIcp",
    "outputId": "df5ca3ad-5715-422c-b0af-97d008c11f1c"
   },
   "outputs": [
    {
     "name": "stdout",
     "output_type": "stream",
     "text": [
      "[('q789', 0.9842917919158936), ('q1615', 0.9836912155151367), ('q1447', 0.9775302410125732), ('q1776', 0.9750415086746216), ('q10', 0.974833607673645), ('q1803', 0.973342776298523), ('q520', 0.972236692905426), ('q1273', 0.9711782336235046), ('q177', 0.9708677530288696), ('q1165', 0.9704925417900085)]\n"
     ]
    },
    {
     "name": "stderr",
     "output_type": "stream",
     "text": [
      "/usr/local/lib/python3.6/dist-packages/gensim/matutils.py:737: FutureWarning: Conversion of the second argument of issubdtype from `int` to `np.signedinteger` is deprecated. In future, it will be treated as `np.int64 == np.dtype(int).type`.\n",
      "  if np.issubdtype(vec.dtype, np.int):\n"
     ]
    }
   ],
   "source": [
    "#to get most similar questions with similarity scores using question- name\n",
    "sims = d2v_model.docvecs.most_similar('q3')\n",
    "print(sims)"
   ]
  },
  {
   "cell_type": "code",
   "execution_count": 18,
   "metadata": {
    "colab": {
     "base_uri": "https://localhost:8080/",
     "height": 425
    },
    "colab_type": "code",
    "executionInfo": {
     "elapsed": 1401929,
     "status": "ok",
     "timestamp": 1577782249795,
     "user": {
      "displayName": "Saikumar Dev",
      "photoUrl": "",
      "userId": "03015931960176323674"
     },
     "user_tz": -330
    },
    "id": "rgdN4nBI6-n-",
    "outputId": "12e17b80-2eef-47bf-b003-a42df9494f75"
   },
   "outputs": [
    {
     "name": "stdout",
     "output_type": "stream",
     "text": [
      "actual question:\n",
      " ['what be the story of kohinoor koh noor diamond'] \n",
      "\n",
      "\n",
      "similar question:\n",
      " ['what be the good self help book pron have ever read']\n",
      "similar question:\n",
      " ['what area of game programming be most mathematically involve and suit to math major']\n",
      "similar question:\n",
      " ['what be the good horror novel in']\n",
      "similar question:\n",
      " ['why be the big bang theory tv series so popular why be pron so popular with mainstream viewer']\n",
      "similar question:\n",
      " ['which fish would survive in salt water']\n",
      "similar question:\n",
      " ['prove that snr of power snr of voltage sequare']\n",
      "similar question:\n",
      " ['can pron cancel tatkal waiting list ticket']\n",
      "similar question:\n",
      " ['what be the good website to learn programming for begineer']\n",
      "similar question:\n",
      " ['which be the good gaming laptop under inr']\n",
      "similar question:\n",
      " ['why india do not have friendly relation with pron be neighbouring country']\n"
     ]
    }
   ],
   "source": [
    "actual_question = temp_df[\"questions\"][temp_df[\"qid\"] == 'q3'].values\n",
    "print(\"actual question:\\n\",actual_question,\"\\n\\n\")\n",
    "similar_questions = []\n",
    "for id,score in sims:\n",
    "    print(\"similar question:\\n\",temp_df[\"questions\"][temp_df[\"qid\"] == id].values)"
   ]
  },
  {
   "cell_type": "code",
   "execution_count": 19,
   "metadata": {
    "colab": {
     "base_uri": "https://localhost:8080/",
     "height": 1000
    },
    "colab_type": "code",
    "executionInfo": {
     "elapsed": 1401134,
     "status": "ok",
     "timestamp": 1577782249795,
     "user": {
      "displayName": "Saikumar Dev",
      "photoUrl": "",
      "userId": "03015931960176323674"
     },
     "user_tz": -330
    },
    "id": "Lz7VtWO3kr8r",
    "outputId": "2e8f40f7-8b9c-4628-c09d-98cf84411ccb",
    "scrolled": true
   },
   "outputs": [
    {
     "name": "stdout",
     "output_type": "stream",
     "text": [
      "[ 8.13260558e-04  6.52711373e-04 -1.27835106e-03 -3.36558442e-04\n",
      "  6.69761677e-04  1.41433149e-03 -2.44597439e-04 -1.60851443e-04\n",
      "  6.15414581e-04  3.97924683e-04 -2.59113673e-04  3.47420224e-04\n",
      " -9.37240780e-04  9.11506242e-04 -8.29532743e-04 -8.00306880e-05\n",
      "  1.37216260e-03 -9.78128868e-04  3.11138370e-04  4.24123456e-04\n",
      " -1.02365715e-03  2.33983257e-04 -1.02776522e-03 -1.28362456e-03\n",
      " -1.14987907e-03 -7.06099439e-04  1.07160580e-04 -8.99251900e-04\n",
      " -3.46198576e-05  2.52552301e-04 -9.02860658e-04  5.00085473e-04\n",
      "  3.59014695e-04 -1.14721261e-04  6.62693492e-05 -1.58018293e-03\n",
      " -1.16872671e-03 -5.27093944e-04  3.54430842e-04  3.09811876e-04\n",
      " -5.87266913e-05  7.31529552e-04  9.53248120e-04  4.22610583e-06\n",
      "  1.05116889e-03 -2.88103562e-04  1.13250641e-03 -8.85433459e-04\n",
      "  2.39585963e-04  1.34278904e-03 -1.60948059e-03 -7.69341830e-04\n",
      "  3.06174537e-04  6.01353706e-04 -1.43164699e-03  9.12399628e-05\n",
      "  8.30846897e-04  1.36261445e-03 -6.05819572e-04  1.54437590e-03\n",
      " -1.45474484e-03 -3.06065078e-04 -1.17387029e-03  6.73444476e-04\n",
      "  9.01141786e-04  5.05047094e-04  1.30121480e-03 -1.60344737e-03\n",
      "  3.12106335e-04 -7.48211693e-04 -1.54490222e-03 -1.53916690e-03\n",
      "  9.75963543e-04 -1.64734409e-03  7.78300280e-04  7.49516883e-04\n",
      " -4.34255053e-04  1.61072554e-03  8.78920429e-04 -4.62303840e-04\n",
      " -7.42970384e-04  1.04444963e-03 -2.73974088e-04 -1.08149114e-04\n",
      "  7.39072682e-04  1.46146817e-03  9.35122662e-04  7.10714143e-04\n",
      "  1.57392072e-03 -1.46659045e-03 -1.01998786e-03  1.57919375e-03\n",
      "  1.19354518e-03  2.27252476e-05 -1.12793634e-04  1.15242787e-03\n",
      " -1.78262009e-04  9.24287946e-04  1.50868308e-03 -1.45064015e-03\n",
      " -1.36145996e-03  1.04193308e-03  3.05683294e-04  9.35348973e-04\n",
      "  8.43267713e-04  1.07602309e-03 -2.40293812e-04  8.78837309e-05\n",
      " -9.30094044e-04  4.09027329e-04 -7.32865825e-04  3.69696994e-04\n",
      " -1.02301265e-05  1.48083060e-03 -2.19749680e-04  1.24362705e-03\n",
      " -5.48863318e-04  1.06680242e-03  5.14724292e-04 -5.50517172e-04\n",
      " -2.74594233e-04  9.64861771e-04 -8.77320243e-04 -3.08835763e-04\n",
      " -6.32270472e-04  2.05797027e-04  1.29558356e-03  1.24277594e-03\n",
      "  1.38310483e-04 -1.28903124e-03  8.04379815e-04 -6.74485869e-04\n",
      " -1.50217663e-03 -1.06189644e-03 -8.04984011e-05 -1.63047318e-03\n",
      "  1.17589964e-03  1.27419992e-03 -1.01778901e-03  6.68032560e-04\n",
      "  6.94489921e-04  4.58012451e-04  1.21857435e-03  1.64183485e-03\n",
      "  1.44381938e-03 -4.42673452e-04  1.87334808e-05  1.03008957e-03\n",
      "  6.75238916e-05  5.65893191e-04  1.50343450e-03  8.03009432e-04\n",
      " -1.10021574e-04 -4.84952674e-04  9.83735197e-04 -1.77498325e-04\n",
      "  1.04923281e-04 -7.58288079e-04  1.00721524e-03  3.05551279e-04\n",
      "  9.28289781e-04 -5.46280295e-04  1.18261203e-03 -1.47801649e-03\n",
      " -5.92249155e-04 -1.42816058e-03 -5.20605070e-04 -1.28552539e-03\n",
      " -7.15528557e-04  1.64084940e-03 -1.25114154e-03  1.60351035e-03\n",
      " -1.21962011e-03  4.69473278e-04  1.56561576e-03  6.84003971e-05\n",
      "  9.32003313e-04 -1.19021465e-03 -1.10845617e-03 -1.28464808e-03\n",
      "  6.26523281e-04 -3.08973249e-04  1.04993524e-03 -9.26649314e-04\n",
      " -1.63142255e-03  2.23115509e-04 -1.46860699e-03 -1.62773475e-03\n",
      "  7.76670582e-04  1.32964889e-03  2.13054838e-04 -7.45968311e-04\n",
      " -1.08538859e-03  1.14694948e-03  9.57273805e-05  1.53221050e-03\n",
      " -7.21646284e-05  6.15748460e-04 -2.23881754e-04 -1.94192471e-04\n",
      " -4.66274127e-04  9.52963019e-05 -1.25292616e-04  1.43060158e-03\n",
      "  1.40297064e-03 -5.62289730e-04 -1.50113646e-03 -9.92805813e-04\n",
      "  4.58440336e-04 -1.25339034e-03 -1.55290891e-03  1.51946209e-03\n",
      " -1.05711073e-03 -4.09534929e-04 -4.15442162e-04  1.18363401e-04\n",
      "  3.56959528e-04  1.17152231e-03  1.32890826e-03  1.49690523e-03\n",
      "  4.02054226e-04  1.46558788e-03  1.08956371e-03 -5.10493119e-04\n",
      "  2.28840974e-04 -9.24258144e-04 -1.05595903e-03  5.25486794e-05\n",
      " -5.25729207e-04 -1.10253110e-03 -1.03961196e-04 -9.70028283e-04\n",
      " -1.46809174e-03  2.59131775e-04  8.69871816e-04 -1.19427184e-03\n",
      "  2.02660041e-04 -1.31805940e-03  5.54774830e-04  1.59335777e-03\n",
      "  8.53332807e-04  2.39148023e-04  8.77878396e-04 -9.27029119e-04\n",
      " -8.03703093e-04 -1.28908572e-03 -3.21292406e-04 -9.18605656e-04\n",
      " -2.51979596e-04 -7.29303923e-04 -1.12466852e-03  1.48078497e-03\n",
      "  8.51594261e-04 -1.00981379e-04  2.15998516e-04  4.31152293e-04\n",
      " -1.02531316e-03 -1.14456576e-03  1.45837059e-03 -1.52416050e-03\n",
      "  6.06087444e-04 -7.59407645e-04 -1.56959821e-03 -7.60271389e-04\n",
      " -1.23030052e-03 -8.49053555e-04 -2.09964477e-04 -5.86834503e-04\n",
      "  1.66433363e-03  1.44959800e-03 -1.04630447e-03  1.25833659e-03\n",
      " -6.28809910e-04  1.38148281e-03 -4.76038142e-04 -9.32510011e-04\n",
      " -2.28117322e-04 -2.76259496e-04 -5.73958328e-04  1.37247785e-03\n",
      " -9.07682639e-04  7.13706613e-05 -1.45242969e-03  6.36427198e-04\n",
      " -7.66380457e-04 -2.17147244e-04 -4.87105368e-04  5.64659364e-04\n",
      " -3.25995934e-04  3.36079655e-04  9.49645531e-04  6.71947666e-04\n",
      " -3.36247351e-04  2.49454228e-04 -8.47507108e-05  2.44318449e-04\n",
      " -9.61448241e-04 -1.17772864e-03  1.06947299e-03  1.46659394e-03]\n"
     ]
    }
   ],
   "source": [
    "#to get vector of new text that is not present in corpus  \n",
    "text='What are the differences between a love marriage and an arranged marriage?'\n",
    "docvec_test = d2v_model.infer_vector([clean_question(text)],steps=20, alpha=0.025)\n",
    "print(docvec_test)"
   ]
  },
  {
   "cell_type": "code",
   "execution_count": 20,
   "metadata": {
    "colab": {
     "base_uri": "https://localhost:8080/",
     "height": 241
    },
    "colab_type": "code",
    "executionInfo": {
     "elapsed": 1400199,
     "status": "ok",
     "timestamp": 1577782249796,
     "user": {
      "displayName": "Saikumar Dev",
      "photoUrl": "",
      "userId": "03015931960176323674"
     },
     "user_tz": -330
    },
    "id": "c_OoXLHQkr8u",
    "outputId": "441e61a4-930f-477f-d3ff-f27f95f0c7e4"
   },
   "outputs": [
    {
     "name": "stderr",
     "output_type": "stream",
     "text": [
      "/usr/local/lib/python3.6/dist-packages/gensim/matutils.py:737: FutureWarning: Conversion of the second argument of issubdtype from `int` to `np.signedinteger` is deprecated. In future, it will be treated as `np.int64 == np.dtype(int).type`.\n",
      "  if np.issubdtype(vec.dtype, np.int):\n"
     ]
    },
    {
     "data": {
      "text/plain": [
       "[('q155', 0.14983892440795898),\n",
       " ('q1988', 0.09502933919429779),\n",
       " ('q445', 0.09265796840190887),\n",
       " ('q1455', 0.08877728879451752),\n",
       " ('q1903', 0.08162131160497665),\n",
       " ('q1815', 0.0799749568104744),\n",
       " ('q153', 0.0777415782213211),\n",
       " ('q382', 0.06997652351856232),\n",
       " ('q916', 0.06949349492788315),\n",
       " ('q767', 0.06935332715511322)]"
      ]
     },
     "execution_count": 20,
     "metadata": {
      "tags": []
     },
     "output_type": "execute_result"
    }
   ],
   "source": [
    "# get similar questions with similarity scores\n",
    "d2v_model.docvecs.most_similar(positive=[docvec_test])"
   ]
  },
  {
   "cell_type": "code",
   "execution_count": 0,
   "metadata": {
    "colab": {},
    "colab_type": "code",
    "id": "OBw-e77Ikr8x"
   },
   "outputs": [],
   "source": []
  }
 ],
 "metadata": {
  "accelerator": "GPU",
  "colab": {
   "collapsed_sections": [],
   "name": "Text_Similarity.ipynb",
   "provenance": [
    {
     "file_id": "1x1L1iPCaT2gdjEoPPjd4dDwhHFPjkTS1",
     "timestamp": 1577774023219
    }
   ]
  },
  "kernelspec": {
   "display_name": "Python 3",
   "language": "python",
   "name": "python3"
  },
  "language_info": {
   "codemirror_mode": {
    "name": "ipython",
    "version": 3
   },
   "file_extension": ".py",
   "mimetype": "text/x-python",
   "name": "python",
   "nbconvert_exporter": "python",
   "pygments_lexer": "ipython3",
   "version": "3.7.0"
  }
 },
 "nbformat": 4,
 "nbformat_minor": 1
}
